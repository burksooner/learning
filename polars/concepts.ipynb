{
 "cells": [
  {
   "cell_type": "markdown",
   "id": "fb9ffba4",
   "metadata": {},
   "source": [
    "# Data types and structures\n",
    "**Series**: 1D array of values (homogenous; i.e., same data type)\n"
   ]
  },
  {
   "cell_type": "code",
   "execution_count": 1,
   "id": "b3814803",
   "metadata": {},
   "outputs": [
    {
     "name": "stdout",
     "output_type": "stream",
     "text": [
      "shape: (5,)\n",
      "Series: 'ints' [i64]\n",
      "[\n",
      "\t1\n",
      "\t2\n",
      "\t3\n",
      "\t4\n",
      "\t5\n",
      "]\n"
     ]
    }
   ],
   "source": [
    "import polars as pl\n",
    "\n",
    "s = pl.Series(\"ints\", [1, 2, 3, 4, 5])\n",
    "print(s)"
   ]
  },
  {
   "cell_type": "code",
   "execution_count": 2,
   "id": "41066cbe",
   "metadata": {},
   "outputs": [
    {
     "name": "stdout",
     "output_type": "stream",
     "text": [
      "Int64 UInt64\n"
     ]
    }
   ],
   "source": [
    "s1 = pl.Series(\"ints\", [1, 2, 3, 4, 5])\n",
    "s2 = pl.Series(\"uints\", [1, 2, 3, 4, 5], dtype=pl.UInt64)\n",
    "print(s1.dtype, s2.dtype)"
   ]
  },
  {
   "cell_type": "markdown",
   "id": "124ec518",
   "metadata": {},
   "source": [
    "**Dataframe**: 2D heterogenous data structure that contains uniquely named series"
   ]
  },
  {
   "cell_type": "code",
   "execution_count": 3,
   "id": "35e2a282",
   "metadata": {},
   "outputs": [
    {
     "name": "stdout",
     "output_type": "stream",
     "text": [
      "shape: (4, 4)\n",
      "┌────────────────┬────────────┬────────┬────────┐\n",
      "│ name           ┆ birthdate  ┆ weight ┆ height │\n",
      "│ ---            ┆ ---        ┆ ---    ┆ ---    │\n",
      "│ str            ┆ date       ┆ f64    ┆ f64    │\n",
      "╞════════════════╪════════════╪════════╪════════╡\n",
      "│ Alice Archer   ┆ 1997-01-10 ┆ 57.9   ┆ 1.56   │\n",
      "│ Ben Brown      ┆ 1985-02-15 ┆ 72.5   ┆ 1.77   │\n",
      "│ Chloe Cooper   ┆ 1983-03-22 ┆ 53.6   ┆ 1.65   │\n",
      "│ Daniel Donovan ┆ 1981-04-30 ┆ 83.1   ┆ 1.75   │\n",
      "└────────────────┴────────────┴────────┴────────┘\n"
     ]
    }
   ],
   "source": [
    "from datetime import date\n",
    "\n",
    "df = pl.DataFrame(\n",
    "    {\n",
    "        \"name\": [\"Alice Archer\", \"Ben Brown\", \"Chloe Cooper\", \"Daniel Donovan\"],\n",
    "        \"birthdate\": [\n",
    "            date(1997, 1, 10),\n",
    "            date(1985, 2, 15),\n",
    "            date(1983, 3, 22),\n",
    "            date(1981, 4, 30),\n",
    "        ],\n",
    "        \"weight\": [57.9, 72.5, 53.6, 83.1],  # (kg)\n",
    "        \"height\": [1.56, 1.77, 1.65, 1.75],  # (m)\n",
    "    }\n",
    ")\n",
    "\n",
    "print(df)"
   ]
  },
  {
   "cell_type": "code",
   "execution_count": 4,
   "id": "dbd6ce9b",
   "metadata": {},
   "outputs": [
    {
     "name": "stdout",
     "output_type": "stream",
     "text": [
      "shape: (3, 4)\n",
      "┌──────────────┬────────────┬────────┬────────┐\n",
      "│ name         ┆ birthdate  ┆ weight ┆ height │\n",
      "│ ---          ┆ ---        ┆ ---    ┆ ---    │\n",
      "│ str          ┆ date       ┆ f64    ┆ f64    │\n",
      "╞══════════════╪════════════╪════════╪════════╡\n",
      "│ Alice Archer ┆ 1997-01-10 ┆ 57.9   ┆ 1.56   │\n",
      "│ Ben Brown    ┆ 1985-02-15 ┆ 72.5   ┆ 1.77   │\n",
      "│ Chloe Cooper ┆ 1983-03-22 ┆ 53.6   ┆ 1.65   │\n",
      "└──────────────┴────────────┴────────┴────────┘\n"
     ]
    }
   ],
   "source": [
    "print(df.head(3))"
   ]
  },
  {
   "cell_type": "code",
   "execution_count": 5,
   "id": "e0cc022b",
   "metadata": {},
   "outputs": [
    {
     "name": "stdout",
     "output_type": "stream",
     "text": [
      "Rows: 4\n",
      "Columns: 4\n",
      "$ name       <str> 'Alice Archer', 'Ben Brown', 'Chloe Cooper', 'Daniel Donovan'\n",
      "$ birthdate <date> 1997-01-10, 1985-02-15, 1983-03-22, 1981-04-30\n",
      "$ weight     <f64> 57.9, 72.5, 53.6, 83.1\n",
      "$ height     <f64> 1.56, 1.77, 1.65, 1.75\n",
      "\n"
     ]
    }
   ],
   "source": [
    "print(df.glimpse(return_as_string=True))"
   ]
  },
  {
   "cell_type": "code",
   "execution_count": 6,
   "id": "9ac541b4",
   "metadata": {},
   "outputs": [
    {
     "name": "stdout",
     "output_type": "stream",
     "text": [
      "shape: (3, 4)\n",
      "┌────────────────┬────────────┬────────┬────────┐\n",
      "│ name           ┆ birthdate  ┆ weight ┆ height │\n",
      "│ ---            ┆ ---        ┆ ---    ┆ ---    │\n",
      "│ str            ┆ date       ┆ f64    ┆ f64    │\n",
      "╞════════════════╪════════════╪════════╪════════╡\n",
      "│ Ben Brown      ┆ 1985-02-15 ┆ 72.5   ┆ 1.77   │\n",
      "│ Chloe Cooper   ┆ 1983-03-22 ┆ 53.6   ┆ 1.65   │\n",
      "│ Daniel Donovan ┆ 1981-04-30 ┆ 83.1   ┆ 1.75   │\n",
      "└────────────────┴────────────┴────────┴────────┘\n"
     ]
    }
   ],
   "source": [
    "print(df.tail(3))"
   ]
  },
  {
   "cell_type": "code",
   "execution_count": 7,
   "id": "0de9f7ae",
   "metadata": {},
   "outputs": [
    {
     "name": "stdout",
     "output_type": "stream",
     "text": [
      "shape: (2, 4)\n",
      "┌────────────────┬────────────┬────────┬────────┐\n",
      "│ name           ┆ birthdate  ┆ weight ┆ height │\n",
      "│ ---            ┆ ---        ┆ ---    ┆ ---    │\n",
      "│ str            ┆ date       ┆ f64    ┆ f64    │\n",
      "╞════════════════╪════════════╪════════╪════════╡\n",
      "│ Daniel Donovan ┆ 1981-04-30 ┆ 83.1   ┆ 1.75   │\n",
      "│ Chloe Cooper   ┆ 1983-03-22 ┆ 53.6   ┆ 1.65   │\n",
      "└────────────────┴────────────┴────────┴────────┘\n"
     ]
    }
   ],
   "source": [
    "import random\n",
    "\n",
    "random.seed(42)  # For reproducibility.\n",
    "\n",
    "print(df.sample(2))"
   ]
  },
  {
   "cell_type": "code",
   "execution_count": 8,
   "id": "8d96d36e",
   "metadata": {},
   "outputs": [
    {
     "name": "stdout",
     "output_type": "stream",
     "text": [
      "shape: (9, 5)\n",
      "┌────────────┬────────────────┬─────────────────────┬───────────┬──────────┐\n",
      "│ statistic  ┆ name           ┆ birthdate           ┆ weight    ┆ height   │\n",
      "│ ---        ┆ ---            ┆ ---                 ┆ ---       ┆ ---      │\n",
      "│ str        ┆ str            ┆ str                 ┆ f64       ┆ f64      │\n",
      "╞════════════╪════════════════╪═════════════════════╪═══════════╪══════════╡\n",
      "│ count      ┆ 4              ┆ 4                   ┆ 4.0       ┆ 4.0      │\n",
      "│ null_count ┆ 0              ┆ 0                   ┆ 0.0       ┆ 0.0      │\n",
      "│ mean       ┆ null           ┆ 1986-09-04 00:00:00 ┆ 66.775    ┆ 1.6825   │\n",
      "│ std        ┆ null           ┆ null                ┆ 13.560082 ┆ 0.097082 │\n",
      "│ min        ┆ Alice Archer   ┆ 1981-04-30          ┆ 53.6      ┆ 1.56     │\n",
      "│ 25%        ┆ null           ┆ 1983-03-22          ┆ 57.9      ┆ 1.65     │\n",
      "│ 50%        ┆ null           ┆ 1985-02-15          ┆ 72.5      ┆ 1.75     │\n",
      "│ 75%        ┆ null           ┆ 1985-02-15          ┆ 72.5      ┆ 1.75     │\n",
      "│ max        ┆ Daniel Donovan ┆ 1997-01-10          ┆ 83.1      ┆ 1.77     │\n",
      "└────────────┴────────────────┴─────────────────────┴───────────┴──────────┘\n"
     ]
    }
   ],
   "source": [
    "print(df.describe())"
   ]
  },
  {
   "cell_type": "code",
   "execution_count": 9,
   "id": "b6bb6bea",
   "metadata": {},
   "outputs": [
    {
     "name": "stdout",
     "output_type": "stream",
     "text": [
      "Schema({'name': String, 'birthdate': Date, 'weight': Float64, 'height': Float64})\n"
     ]
    }
   ],
   "source": [
    "print(df.schema)"
   ]
  },
  {
   "cell_type": "code",
   "execution_count": 10,
   "id": "45298073",
   "metadata": {},
   "outputs": [
    {
     "name": "stdout",
     "output_type": "stream",
     "text": [
      "shape: (4, 2)\n",
      "┌────────┬─────┐\n",
      "│ name   ┆ age │\n",
      "│ ---    ┆ --- │\n",
      "│ str    ┆ u8  │\n",
      "╞════════╪═════╡\n",
      "│ Alice  ┆ 27  │\n",
      "│ Ben    ┆ 39  │\n",
      "│ Chloe  ┆ 41  │\n",
      "│ Daniel ┆ 43  │\n",
      "└────────┴─────┘\n"
     ]
    }
   ],
   "source": [
    "df = pl.DataFrame(\n",
    "    {\n",
    "        \"name\": [\"Alice\", \"Ben\", \"Chloe\", \"Daniel\"],\n",
    "        \"age\": [27, 39, 41, 43],\n",
    "    },\n",
    "    schema={\"name\": None, \"age\": pl.UInt8},\n",
    ")\n",
    "\n",
    "print(df)"
   ]
  },
  {
   "cell_type": "code",
   "execution_count": 11,
   "id": "0e2665a5",
   "metadata": {},
   "outputs": [
    {
     "name": "stdout",
     "output_type": "stream",
     "text": [
      "shape: (4, 2)\n",
      "┌────────┬─────┐\n",
      "│ name   ┆ age │\n",
      "│ ---    ┆ --- │\n",
      "│ str    ┆ u8  │\n",
      "╞════════╪═════╡\n",
      "│ Alice  ┆ 27  │\n",
      "│ Ben    ┆ 39  │\n",
      "│ Chloe  ┆ 41  │\n",
      "│ Daniel ┆ 43  │\n",
      "└────────┴─────┘\n"
     ]
    }
   ],
   "source": [
    "df = pl.DataFrame(\n",
    "    {\n",
    "        \"name\": [\"Alice\", \"Ben\", \"Chloe\", \"Daniel\"],\n",
    "        \"age\": [27, 39, 41, 43],\n",
    "    },\n",
    "    schema_overrides={\"age\": pl.UInt8},\n",
    ")\n",
    "\n",
    "print(df)"
   ]
  },
  {
   "cell_type": "markdown",
   "id": "ee03a6d7",
   "metadata": {},
   "source": [
    "# Expressions and contexts"
   ]
  },
  {
   "cell_type": "code",
   "execution_count": 12,
   "id": "9600a36a",
   "metadata": {},
   "outputs": [
    {
     "data": {
      "text/html": [
       "[(col(\"weight\")) / (col(\"height\").pow([dyn int: 2]))]"
      ],
      "text/plain": [
       "<Expr ['[(col(\"weight\")) / (col(\"heigh…'] at 0x1EB37426050>"
      ]
     },
     "execution_count": 12,
     "metadata": {},
     "output_type": "execute_result"
    }
   ],
   "source": [
    "import polars as pl\n",
    "\n",
    "pl.col(\"weight\") / (pl.col(\"height\") ** 2)"
   ]
  },
  {
   "cell_type": "code",
   "execution_count": 13,
   "id": "df5eebdb",
   "metadata": {},
   "outputs": [
    {
     "name": "stdout",
     "output_type": "stream",
     "text": [
      "[(col(\"weight\")) / (col(\"height\").pow([dyn int: 2]))]\n"
     ]
    }
   ],
   "source": [
    "bmi_expr = pl.col(\"weight\") / (pl.col(\"height\") ** 2)\n",
    "print(bmi_expr)"
   ]
  },
  {
   "cell_type": "code",
   "execution_count": 14,
   "id": "b6110e00",
   "metadata": {},
   "outputs": [
    {
     "name": "stdout",
     "output_type": "stream",
     "text": [
      "shape: (4, 4)\n",
      "┌────────────────┬────────────┬────────┬────────┐\n",
      "│ name           ┆ birthdate  ┆ weight ┆ height │\n",
      "│ ---            ┆ ---        ┆ ---    ┆ ---    │\n",
      "│ str            ┆ date       ┆ f64    ┆ f64    │\n",
      "╞════════════════╪════════════╪════════╪════════╡\n",
      "│ Alice Archer   ┆ 1997-01-10 ┆ 57.9   ┆ 1.56   │\n",
      "│ Ben Brown      ┆ 1985-02-15 ┆ 72.5   ┆ 1.77   │\n",
      "│ Chloe Cooper   ┆ 1983-03-22 ┆ 53.6   ┆ 1.65   │\n",
      "│ Daniel Donovan ┆ 1981-04-30 ┆ 83.1   ┆ 1.75   │\n",
      "└────────────────┴────────────┴────────┴────────┘\n"
     ]
    }
   ],
   "source": [
    "from datetime import date\n",
    "\n",
    "df = pl.DataFrame(\n",
    "    {\n",
    "        \"name\": [\"Alice Archer\", \"Ben Brown\", \"Chloe Cooper\", \"Daniel Donovan\"],\n",
    "        \"birthdate\": [\n",
    "            date(1997, 1, 10),\n",
    "            date(1985, 2, 15),\n",
    "            date(1983, 3, 22),\n",
    "            date(1981, 4, 30),\n",
    "        ],\n",
    "        \"weight\": [57.9, 72.5, 53.6, 83.1],  # (kg)\n",
    "        \"height\": [1.56, 1.77, 1.65, 1.75],  # (m)\n",
    "    }\n",
    ")\n",
    "\n",
    "print(df)"
   ]
  },
  {
   "cell_type": "code",
   "execution_count": 15,
   "id": "7da6e3fd",
   "metadata": {},
   "outputs": [
    {
     "name": "stdout",
     "output_type": "stream",
     "text": [
      "shape: (4, 3)\n",
      "┌───────────┬───────────┬───────────────┐\n",
      "│ bmi       ┆ avg_bmi   ┆ ideal_max_bmi │\n",
      "│ ---       ┆ ---       ┆ ---           │\n",
      "│ f64       ┆ f64       ┆ i32           │\n",
      "╞═══════════╪═══════════╪═══════════════╡\n",
      "│ 23.791913 ┆ 23.438973 ┆ 25            │\n",
      "│ 23.141498 ┆ 23.438973 ┆ 25            │\n",
      "│ 19.687787 ┆ 23.438973 ┆ 25            │\n",
      "│ 27.134694 ┆ 23.438973 ┆ 25            │\n",
      "└───────────┴───────────┴───────────────┘\n"
     ]
    }
   ],
   "source": [
    "result = df.select(\n",
    "    bmi=bmi_expr,\n",
    "    avg_bmi=bmi_expr.mean(),\n",
    "    ideal_max_bmi=25,\n",
    ")\n",
    "print(result)"
   ]
  },
  {
   "cell_type": "code",
   "execution_count": 16,
   "id": "56c54ac5",
   "metadata": {},
   "outputs": [
    {
     "name": "stdout",
     "output_type": "stream",
     "text": [
      "shape: (4, 1)\n",
      "┌───────────┐\n",
      "│ deviation │\n",
      "│ ---       │\n",
      "│ f64       │\n",
      "╞═══════════╡\n",
      "│ 0.115645  │\n",
      "│ -0.097471 │\n",
      "│ -1.22912  │\n",
      "│ 1.210946  │\n",
      "└───────────┘\n"
     ]
    }
   ],
   "source": [
    "result = df.select(deviation=(bmi_expr - bmi_expr.mean()) / bmi_expr.std())\n",
    "print(result)"
   ]
  },
  {
   "cell_type": "code",
   "execution_count": 17,
   "id": "580b78b2",
   "metadata": {},
   "outputs": [
    {
     "name": "stdout",
     "output_type": "stream",
     "text": [
      "shape: (4, 7)\n",
      "┌────────────────┬────────────┬────────┬────────┬───────────┬───────────┬───────────────┐\n",
      "│ name           ┆ birthdate  ┆ weight ┆ height ┆ bmi       ┆ avg_bmi   ┆ ideal_max_bmi │\n",
      "│ ---            ┆ ---        ┆ ---    ┆ ---    ┆ ---       ┆ ---       ┆ ---           │\n",
      "│ str            ┆ date       ┆ f64    ┆ f64    ┆ f64       ┆ f64       ┆ i32           │\n",
      "╞════════════════╪════════════╪════════╪════════╪═══════════╪═══════════╪═══════════════╡\n",
      "│ Alice Archer   ┆ 1997-01-10 ┆ 57.9   ┆ 1.56   ┆ 23.791913 ┆ 23.438973 ┆ 25            │\n",
      "│ Ben Brown      ┆ 1985-02-15 ┆ 72.5   ┆ 1.77   ┆ 23.141498 ┆ 23.438973 ┆ 25            │\n",
      "│ Chloe Cooper   ┆ 1983-03-22 ┆ 53.6   ┆ 1.65   ┆ 19.687787 ┆ 23.438973 ┆ 25            │\n",
      "│ Daniel Donovan ┆ 1981-04-30 ┆ 83.1   ┆ 1.75   ┆ 27.134694 ┆ 23.438973 ┆ 25            │\n",
      "└────────────────┴────────────┴────────┴────────┴───────────┴───────────┴───────────────┘\n"
     ]
    }
   ],
   "source": [
    "result = df.with_columns(\n",
    "    bmi=bmi_expr,\n",
    "    avg_bmi=bmi_expr.mean(),\n",
    "    ideal_max_bmi=25,\n",
    ")\n",
    "print(result)"
   ]
  },
  {
   "cell_type": "code",
   "execution_count": 18,
   "id": "7020d3f5",
   "metadata": {},
   "outputs": [
    {
     "name": "stdout",
     "output_type": "stream",
     "text": [
      "shape: (1, 4)\n",
      "┌───────────┬────────────┬────────┬────────┐\n",
      "│ name      ┆ birthdate  ┆ weight ┆ height │\n",
      "│ ---       ┆ ---        ┆ ---    ┆ ---    │\n",
      "│ str       ┆ date       ┆ f64    ┆ f64    │\n",
      "╞═══════════╪════════════╪════════╪════════╡\n",
      "│ Ben Brown ┆ 1985-02-15 ┆ 72.5   ┆ 1.77   │\n",
      "└───────────┴────────────┴────────┴────────┘\n"
     ]
    }
   ],
   "source": [
    "result = df.filter(\n",
    "    pl.col(\"birthdate\").is_between(date(1982, 12, 31), date(1996, 1, 1)),\n",
    "    pl.col(\"height\") > 1.7,\n",
    ")\n",
    "print(result)"
   ]
  },
  {
   "cell_type": "code",
   "execution_count": 19,
   "id": "49f22e53",
   "metadata": {},
   "outputs": [
    {
     "name": "stdout",
     "output_type": "stream",
     "text": [
      "shape: (2, 2)\n",
      "┌────────┬─────────────────────────────────┐\n",
      "│ decade ┆ name                            │\n",
      "│ ---    ┆ ---                             │\n",
      "│ i32    ┆ list[str]                       │\n",
      "╞════════╪═════════════════════════════════╡\n",
      "│ 1990   ┆ [\"Alice Archer\"]                │\n",
      "│ 1980   ┆ [\"Ben Brown\", \"Chloe Cooper\", … │\n",
      "└────────┴─────────────────────────────────┘\n"
     ]
    }
   ],
   "source": [
    "result = df.group_by(\n",
    "    (pl.col(\"birthdate\").dt.year() // 10 * 10).alias(\"decade\"),\n",
    ").agg(pl.col(\"name\"))\n",
    "print(result)"
   ]
  },
  {
   "cell_type": "code",
   "execution_count": 20,
   "id": "58bc68ed",
   "metadata": {},
   "outputs": [
    {
     "name": "stdout",
     "output_type": "stream",
     "text": [
      "shape: (3, 3)\n",
      "┌────────┬────────┬─────────────────────────────────┐\n",
      "│ decade ┆ short? ┆ name                            │\n",
      "│ ---    ┆ ---    ┆ ---                             │\n",
      "│ i32    ┆ bool   ┆ list[str]                       │\n",
      "╞════════╪════════╪═════════════════════════════════╡\n",
      "│ 1990   ┆ true   ┆ [\"Alice Archer\"]                │\n",
      "│ 1980   ┆ true   ┆ [\"Chloe Cooper\"]                │\n",
      "│ 1980   ┆ false  ┆ [\"Ben Brown\", \"Daniel Donovan\"… │\n",
      "└────────┴────────┴─────────────────────────────────┘\n"
     ]
    }
   ],
   "source": [
    "result = df.group_by(\n",
    "    (pl.col(\"birthdate\").dt.year() // 10 * 10).alias(\"decade\"),\n",
    "    (pl.col(\"height\") < 1.7).alias(\"short?\"),\n",
    ").agg(pl.col(\"name\"))\n",
    "print(result)"
   ]
  },
  {
   "cell_type": "code",
   "execution_count": 21,
   "id": "ae8f66ae",
   "metadata": {},
   "outputs": [
    {
     "name": "stdout",
     "output_type": "stream",
     "text": [
      "shape: (3, 6)\n",
      "┌────────┬────────┬─────┬─────────┬────────────┬────────────┐\n",
      "│ decade ┆ short? ┆ len ┆ tallest ┆ avg_weight ┆ avg_height │\n",
      "│ ---    ┆ ---    ┆ --- ┆ ---     ┆ ---        ┆ ---        │\n",
      "│ i32    ┆ bool   ┆ u32 ┆ f64     ┆ f64        ┆ f64        │\n",
      "╞════════╪════════╪═════╪═════════╪════════════╪════════════╡\n",
      "│ 1980   ┆ true   ┆ 1   ┆ 1.65    ┆ 53.6       ┆ 1.65       │\n",
      "│ 1980   ┆ false  ┆ 2   ┆ 1.77    ┆ 77.8       ┆ 1.76       │\n",
      "│ 1990   ┆ true   ┆ 1   ┆ 1.56    ┆ 57.9       ┆ 1.56       │\n",
      "└────────┴────────┴─────┴─────────┴────────────┴────────────┘\n"
     ]
    }
   ],
   "source": [
    "result = df.group_by(\n",
    "    (pl.col(\"birthdate\").dt.year() // 10 * 10).alias(\"decade\"),\n",
    "    (pl.col(\"height\") < 1.7).alias(\"short?\"),\n",
    ").agg(\n",
    "    pl.len(),\n",
    "    pl.col(\"height\").max().alias(\"tallest\"),\n",
    "    pl.col(\"weight\", \"height\").mean().name.prefix(\"avg_\"),\n",
    ")\n",
    "print(result)"
   ]
  },
  {
   "cell_type": "code",
   "execution_count": 22,
   "id": "d02968cf",
   "metadata": {},
   "outputs": [
    {
     "data": {
      "text/html": [
       ".rename_alias(cols([\"weight\", \"height\"]).mean())"
      ],
      "text/plain": [
       "<Expr ['.rename_alias(cols([\"weight\", …'] at 0x1EB37427150>"
      ]
     },
     "execution_count": 22,
     "metadata": {},
     "output_type": "execute_result"
    }
   ],
   "source": [
    "pl.col(\"weight\", \"height\").mean().name.prefix(\"avg_\")"
   ]
  },
  {
   "cell_type": "code",
   "execution_count": 23,
   "id": "87c447f2",
   "metadata": {},
   "outputs": [
    {
     "data": {
      "text/plain": [
       "[<Expr ['col(\"weight\").mean().alias(\"av…'] at 0x1EB37427D50>,\n",
       " <Expr ['col(\"height\").mean().alias(\"av…'] at 0x1EB37426250>]"
      ]
     },
     "execution_count": 23,
     "metadata": {},
     "output_type": "execute_result"
    }
   ],
   "source": [
    "[\n",
    "    pl.col(\"weight\").mean().alias(\"avg_weight\"),\n",
    "    pl.col(\"height\").mean().alias(\"avg_height\"),\n",
    "]"
   ]
  },
  {
   "cell_type": "code",
   "execution_count": 24,
   "id": "cb51278c",
   "metadata": {},
   "outputs": [
    {
     "data": {
      "text/html": [
       ".rename_alias([(dtype_columns([Float64])) * (dyn float: 1.1)])"
      ],
      "text/plain": [
       "<Expr ['.rename_alias([(dtype_columns(…'] at 0x1EB37426B50>"
      ]
     },
     "execution_count": 24,
     "metadata": {},
     "output_type": "execute_result"
    }
   ],
   "source": [
    "(pl.col(pl.Float64) * 1.1).name.suffix(\"*1.1\")"
   ]
  },
  {
   "cell_type": "code",
   "execution_count": 25,
   "id": "fabde699",
   "metadata": {},
   "outputs": [
    {
     "name": "stdout",
     "output_type": "stream",
     "text": [
      "shape: (4, 2)\n",
      "┌────────────┬────────────┐\n",
      "│ weight*1.1 ┆ height*1.1 │\n",
      "│ ---        ┆ ---        │\n",
      "│ f64        ┆ f64        │\n",
      "╞════════════╪════════════╡\n",
      "│ 63.69      ┆ 1.716      │\n",
      "│ 79.75      ┆ 1.947      │\n",
      "│ 58.96      ┆ 1.815      │\n",
      "│ 91.41      ┆ 1.925      │\n",
      "└────────────┴────────────┘\n"
     ]
    }
   ],
   "source": [
    "expr = (pl.col(pl.Float64) * 1.1).name.suffix(\"*1.1\")\n",
    "result = df.select(expr)\n",
    "print(result)"
   ]
  },
  {
   "cell_type": "code",
   "execution_count": 26,
   "id": "14e35e3f",
   "metadata": {},
   "outputs": [
    {
     "name": "stdout",
     "output_type": "stream",
     "text": [
      "shape: (0, 0)\n",
      "┌┐\n",
      "╞╡\n",
      "└┘\n"
     ]
    }
   ],
   "source": [
    "df2 = pl.DataFrame(\n",
    "    {\n",
    "        \"ints\": [1, 2, 3, 4],\n",
    "        \"letters\": [\"A\", \"B\", \"C\", \"D\"],\n",
    "    }\n",
    ")\n",
    "result = df2.select(expr)\n",
    "print(result)"
   ]
  },
  {
   "cell_type": "markdown",
   "id": "f667bec7",
   "metadata": {},
   "source": [
    "# Lazy API"
   ]
  },
  {
   "cell_type": "code",
   "execution_count": 29,
   "id": "dcd9217a",
   "metadata": {},
   "outputs": [
    {
     "name": "stdout",
     "output_type": "stream",
     "text": [
      "shape: (3, 2)\n",
      "┌─────────────────┬──────────────┐\n",
      "│ Species         ┆ SepalWidthCm │\n",
      "│ ---             ┆ ---          │\n",
      "│ str             ┆ f64          │\n",
      "╞═════════════════╪══════════════╡\n",
      "│ Iris-setosa     ┆ 3.713636     │\n",
      "│ Iris-virginica  ┆ 2.983673     │\n",
      "│ Iris-versicolor ┆ 2.804255     │\n",
      "└─────────────────┴──────────────┘\n"
     ]
    }
   ],
   "source": [
    "df = pl.read_csv(\"data/Iris.csv\")\n",
    "df_small = df.filter(pl.col(\"SepalLengthCm\") > 5)\n",
    "df_agg = df_small.group_by(\"Species\").agg(pl.col(\"SepalWidthCm\").mean())\n",
    "print(df_agg)"
   ]
  },
  {
   "cell_type": "code",
   "execution_count": 33,
   "id": "531497fd",
   "metadata": {},
   "outputs": [
    {
     "name": "stdout",
     "output_type": "stream",
     "text": [
      "shape: (3, 2)\n",
      "┌─────────────────┬──────────────┐\n",
      "│ Species         ┆ SepalWidthCm │\n",
      "│ ---             ┆ ---          │\n",
      "│ str             ┆ f64          │\n",
      "╞═════════════════╪══════════════╡\n",
      "│ Iris-setosa     ┆ 3.713636     │\n",
      "│ Iris-versicolor ┆ 2.804255     │\n",
      "│ Iris-virginica  ┆ 2.983673     │\n",
      "└─────────────────┴──────────────┘\n"
     ]
    }
   ],
   "source": [
    "q = (\n",
    "    pl.scan_csv(\"data/Iris.csv\")\n",
    "    .filter(pl.col(\"SepalLengthCm\") > 5)\n",
    "    .group_by(\"Species\")\n",
    "    .agg(pl.col(\"SepalWidthCm\").mean())\n",
    ")\n",
    "\n",
    "df = q.collect()\n",
    "print(df)"
   ]
  },
  {
   "cell_type": "code",
   "execution_count": 34,
   "id": "1945a26e",
   "metadata": {},
   "outputs": [
    {
     "name": "stdout",
     "output_type": "stream",
     "text": [
      "AGGREGATE[maintain_order: false]\n",
      "  [col(\"SepalWidthCm\").mean()] BY [col(\"Species\")]\n",
      "  FROM\n",
      "  Csv SCAN [data/Iris.csv] [id: 6291591397824]\n",
      "  PROJECT 3/6 COLUMNS\n",
      "  SELECTION: [(col(\"SepalLengthCm\")) > (5.0)]\n"
     ]
    }
   ],
   "source": [
    "print(q.explain())"
   ]
  },
  {
   "cell_type": "code",
   "execution_count": 35,
   "id": "321a4636",
   "metadata": {},
   "outputs": [
    {
     "name": "stdout",
     "output_type": "stream",
     "text": [
      "SELECT [[(col(\"float_1\")) * (1.1)].alias(\"float_1*1.1\"), [(col(\"float_2\")) * (1.1)].alias(\"float_2*1.1\"), [(col(\"float_3\")) * (1.1)].alias(\"float_3*1.1\")]\n",
      "  DF [\"int_1\", \"int_2\", \"float_1\", \"float_2\", ...]; PROJECT[\"float_1\", \"float_2\", \"float_3\"] 3/5 COLUMNS\n"
     ]
    }
   ],
   "source": [
    "schema = pl.Schema(\n",
    "    {\n",
    "        \"int_1\": pl.Int16,\n",
    "        \"int_2\": pl.Int32,\n",
    "        \"float_1\": pl.Float64,\n",
    "        \"float_2\": pl.Float64,\n",
    "        \"float_3\": pl.Float64,\n",
    "    }\n",
    ")\n",
    "\n",
    "print(\n",
    "    pl.LazyFrame(schema=schema)\n",
    "    .select((pl.col(pl.Float64) * 1.1).name.suffix(\"*1.1\"))\n",
    "    .explain()\n",
    ")"
   ]
  },
  {
   "cell_type": "markdown",
   "id": "e131e5ed",
   "metadata": {},
   "source": [
    "# Streaming"
   ]
  },
  {
   "cell_type": "code",
   "execution_count": 37,
   "id": "5d2b4028",
   "metadata": {},
   "outputs": [
    {
     "name": "stdout",
     "output_type": "stream",
     "text": [
      "shape: (3, 2)\n",
      "┌─────────────────┬──────────────┐\n",
      "│ Species         ┆ SepalWidthCm │\n",
      "│ ---             ┆ ---          │\n",
      "│ str             ┆ f64          │\n",
      "╞═════════════════╪══════════════╡\n",
      "│ Iris-virginica  ┆ 2.983673     │\n",
      "│ Iris-setosa     ┆ 3.713636     │\n",
      "│ Iris-versicolor ┆ 2.804255     │\n",
      "└─────────────────┴──────────────┘\n"
     ]
    }
   ],
   "source": [
    "q1 = (\n",
    "    pl.scan_csv(\"data/Iris.csv\")\n",
    "    .filter(pl.col(\"SepalLengthCm\") > 5)\n",
    "    .group_by(\"Species\")\n",
    "    .agg(pl.col(\"SepalWidthCm\").mean())\n",
    ")\n",
    "df = q1.collect(engine=\"streaming\")\n",
    "print(df)"
   ]
  },
  {
   "cell_type": "code",
   "execution_count": 45,
   "id": "98737631",
   "metadata": {},
   "outputs": [
    {
     "name": "stdout",
     "output_type": "stream",
     "text": [
      "AGGREGATE[maintain_order: false]\n",
      "  [col(\"SepalWidthCm\").mean().alias(\"mean_width\"), [(col(\"SepalWidthCm\").sum()) / (col(\"SepalLengthCm\").count().cast(Float64))].alias(\"mean_width2\")] BY [col(\"Species\")]\n",
      "  FROM\n",
      "  Csv SCAN [data/Iris.csv] [id: 6291591400880]\n",
      "  PROJECT 3/6 COLUMNS\n",
      "  SELECTION: [(col(\"SepalLengthCm\")) > (5.0)]\n"
     ]
    }
   ],
   "source": [
    "q1 = (\n",
    "    pl.scan_csv(\"data/Iris.csv\")\n",
    "    .filter(pl.col(\"SepalLengthCm\") > 5)\n",
    "    .group_by(\"Species\")\n",
    "    .agg(\n",
    "        mean_width=pl.col(\"SepalWidthCm\").mean(),\n",
    "        mean_width2=pl.col(\"SepalWidthCm\").sum() / pl.col(\"SepalLengthCm\").count(),\n",
    "    )\n",
    ")\n",
    "\n",
    "print(q1.explain(optimized=True, engine=\"streaming\"))"
   ]
  }
 ],
 "metadata": {
  "kernelspec": {
   "display_name": "base",
   "language": "python",
   "name": "python3"
  },
  "language_info": {
   "codemirror_mode": {
    "name": "ipython",
    "version": 3
   },
   "file_extension": ".py",
   "mimetype": "text/x-python",
   "name": "python",
   "nbconvert_exporter": "python",
   "pygments_lexer": "ipython3",
   "version": "3.13.5"
  }
 },
 "nbformat": 4,
 "nbformat_minor": 5
}
